{
 "cells": [
  {
   "cell_type": "code",
   "execution_count": 85,
   "metadata": {},
   "outputs": [],
   "source": [
    "def numInput():\n",
    "    try:\n",
    "        number = int(input(\"Limit the summary to how many # of words?\\n\\n\"))\n",
    "    except:\n",
    "        print(\"You must enter a number!\")\n",
    "        numInput()\n",
    "\n",
    "    return number"
   ]
  },
  {
   "cell_type": "code",
   "execution_count": 95,
   "metadata": {},
   "outputs": [
    {
     "name": "stdout",
     "output_type": "stream",
     "text": [
      "Limit the summary to how many # of words?\n",
      "\n",
      "100\n"
     ]
    }
   ],
   "source": [
    "set_len=numInput() # length of summary"
   ]
  },
  {
   "cell_type": "code",
   "execution_count": 86,
   "metadata": {
    "collapsed": true
   },
   "outputs": [],
   "source": [
    "import re"
   ]
  },
  {
   "cell_type": "code",
   "execution_count": 87,
   "metadata": {
    "collapsed": true
   },
   "outputs": [],
   "source": [
    "def split_sentences(text,p='[。.,，？：?:\\n]',filter_p='\\s+'):\n",
    "    f_p=re.compile(filter_p)\n",
    "    text1=re.sub(f_p,' ',text)\n",
    "    pattern=re.compile(p)\n",
    "    split=re.split(pattern,text1)\n",
    "    return split"
   ]
  },
  {
   "cell_type": "code",
   "execution_count": 88,
   "metadata": {},
   "outputs": [],
   "source": [
    "#print(split_sentences(text)[:10])"
   ]
  },
  {
   "cell_type": "code",
   "execution_count": 89,
   "metadata": {
    "collapsed": true
   },
   "outputs": [],
   "source": [
    "import networkx"
   ]
  },
  {
   "cell_type": "code",
   "execution_count": 90,
   "metadata": {
    "collapsed": true
   },
   "outputs": [],
   "source": [
    "def get_sen_graph(text,window=3):\n",
    "    split_sen=split_sentences(text)\n",
    "    sentences_graph=networkx.graph.Graph()\n",
    "    for i,sen in enumerate(split_sen):\n",
    "        sentences_graph.add_edges_from([(sen,split_sen[ii]) for ii in range(i-window,i+window+1)\n",
    "        if ii >= 0 and ii < len(split_sen)])\n",
    "    return sentences_graph"
   ]
  },
  {
   "cell_type": "code",
   "execution_count": 91,
   "metadata": {
    "collapsed": true
   },
   "outputs": [],
   "source": [
    "def text_rank(text):\n",
    "    sentences_graph = get_sen_graph(text)\n",
    "    ranking_sentences = networkx.pagerank(sentences_graph)\n",
    "    ranking_sentences_sorted = sorted(ranking_sentences.items(),key=lambda x:x[1],reverse=True)\n",
    "    return ranking_sentences_sorted"
   ]
  },
  {
   "cell_type": "code",
   "execution_count": 92,
   "metadata": {
    "collapsed": true
   },
   "outputs": [],
   "source": [
    "def get_summarization(text,score_fn,sum_len):\n",
    "    sub_sentences = split_sentences(text)\n",
    "    ranking_sentences = score_fn(text)\n",
    "    selected_sen = set()\n",
    "    current_sen = ''\n",
    "    \n",
    "    for sen, _ in ranking_sentences:\n",
    "        if len(current_sen)<sum_len:\n",
    "            current_sen += sen\n",
    "            selected_sen.add(sen)\n",
    "        else:\n",
    "            break\n",
    "            \n",
    "    summarized = []\n",
    "    for sen in sub_sentences:\n",
    "        if sen in selected_sen:\n",
    "            summarized.append(sen)\n",
    "    return summarized"
   ]
  },
  {
   "cell_type": "code",
   "execution_count": 93,
   "metadata": {
    "collapsed": true
   },
   "outputs": [],
   "source": [
    "def get_summarization_by_text_rank(text,sum_len=set_len): #limit to user set_len words\n",
    "    return get_summarization(text,text_rank,sum_len)"
   ]
  },
  {
   "cell_type": "code",
   "execution_count": 94,
   "metadata": {},
   "outputs": [
    {
     "name": "stdout",
     "output_type": "stream",
     "text": [
      "Please enter the News or article you would like to summarise:\n",
      "\n",
      "Secretary of State Mike Pompeo vowed that the United States would emerge victorious in an intensifying trade war with China, a day before Washington imposes US$200 billion worth of tariffs. \"We are going to win it,\" Pompeo said in an interview on Fox News broadcast Sunday (Sep 23). \"We're going to get an outcome which forces China to behave in a way that if you want to be a power - a global power - transparency, rule of law, you don't steal intellectual property,\" he said. Pompeo said that President Donald Trump \"very much likes\" his Chinese counterpart Xi Jinping but said he would press policies that \"the American workers deserve.\" Even before Trump's election, the United States has complained vigorously that China has been unfair to US businesses and has stolen technology by forcing firms to reveal secrets as a condition to operate in the fast-growing Asian economy. But Trump has taken an increasingly hard line on trade around the world, with US$200 billion in tariffs on Chinese exports set to take effect on Monday. Advertisement China has retaliated by hitting US$60 billion in US products and the world's two largest economies have already imposed tariffs of US$50 billion on each other. In a first, the Trump administration has also punished a unit of China's defense ministry for buying fighter jets and missiles from Russia in defiance of sanctions on Moscow.\n"
     ]
    }
   ],
   "source": [
    "text=input('Please enter the News or article you would like to summarise:\\n\\n') #news to summarise"
   ]
  },
  {
   "cell_type": "code",
   "execution_count": 96,
   "metadata": {},
   "outputs": [
    {
     "name": "stdout",
     "output_type": "stream",
     "text": [
      "SUMMARY:\n",
      "\n",
      "\" Pompeo said in an interview on Fox News broadcast Sunday (Sep 23)  Advertisement China has retaliated by hitting US$60 billion in US products and the world's two largest economies have already imposed tariffs of US$50 billion on each other\n"
     ]
    }
   ],
   "source": [
    "print('SUMMARY:\\n\\n'+' '.join(get_summarization_by_text_rank(text)))"
   ]
  },
  {
   "cell_type": "code",
   "execution_count": null,
   "metadata": {},
   "outputs": [],
   "source": [
    "input('press Enter to EXIT')"
   ]
  },
  {
   "cell_type": "code",
   "execution_count": null,
   "metadata": {
    "collapsed": true
   },
   "outputs": [],
   "source": []
  }
 ],
 "metadata": {
  "kernelspec": {
   "display_name": "Python 3",
   "language": "python",
   "name": "python3"
  },
  "language_info": {
   "codemirror_mode": {
    "name": "ipython",
    "version": 3
   },
   "file_extension": ".py",
   "mimetype": "text/x-python",
   "name": "python",
   "nbconvert_exporter": "python",
   "pygments_lexer": "ipython3",
   "version": "3.7.4"
  }
 },
 "nbformat": 4,
 "nbformat_minor": 2
}
